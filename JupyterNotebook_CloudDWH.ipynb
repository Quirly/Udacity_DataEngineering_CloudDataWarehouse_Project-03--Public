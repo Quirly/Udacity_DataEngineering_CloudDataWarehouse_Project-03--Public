{
 "cells": [
  {
   "cell_type": "markdown",
   "id": "c3872a94",
   "metadata": {},
   "source": [
    "## Project Udacity Data Engineering Nanodegree"
   ]
  },
  {
   "cell_type": "markdown",
   "id": "1ac8439d",
   "metadata": {},
   "source": [
    "This notebook has been created for debugging the project \"Cloud Data Warehouse\" within Udacity Nanodegree \"Data Engineering (with AWS)\". The project was realized within my own AWS account. I have set up an EC2 t2.micro instance (Ubuntu AMI) with 16 GB storage. On this EC2 instance Anaconda3 was installed and Jupyter Notebooks were used for project realization. The notebooks ran in Udacity conda environment were all packages were installed."
   ]
  },
  {
   "cell_type": "markdown",
   "id": "f16bc1a2",
   "metadata": {},
   "source": [
    "### (0) Prepare Python environment"
   ]
  },
  {
   "cell_type": "code",
   "execution_count": 3,
   "id": "434939a5",
   "metadata": {},
   "outputs": [],
   "source": [
    "import pandas as pd\n",
    "import boto3\n",
    "import json\n",
    "from time import time\n",
    "import configparser\n",
    "import psycopg2\n",
    "import configparser\n",
    "import numpy as n\n",
    "%matplotlib inline\n",
    "from matplotlib import pyplot as plt"
   ]
  },
  {
   "cell_type": "markdown",
   "id": "e5752092",
   "metadata": {},
   "source": [
    "### (1) Load Data Warehouse Configuration"
   ]
  },
  {
   "cell_type": "markdown",
   "id": "e73c9df0",
   "metadata": {},
   "source": [
    "Our planned data warehouse configuration is stored in file \"dwh.cfg\" which is stored in the same folder as our Jupyter Notebook. We will read cloud infrastructure parameters for our Redshift data warehouse from this file. We will assign these parameters to our data warehouse infrastructure variables."
   ]
  },
  {
   "cell_type": "code",
   "execution_count": 4,
   "id": "a7057007",
   "metadata": {},
   "outputs": [],
   "source": [
    "import configparser\n",
    "config = configparser.ConfigParser()\n",
    "config.read_file(open('dwh.cfg'))"
   ]
  },
  {
   "cell_type": "code",
   "execution_count": 1,
   "id": "7e65a811",
   "metadata": {},
   "outputs": [
    {
     "ename": "NameError",
     "evalue": "name 'config' is not defined",
     "output_type": "error",
     "traceback": [
      "\u001b[0;31m---------------------------------------------------------------------------\u001b[0m",
      "\u001b[0;31mNameError\u001b[0m                                 Traceback (most recent call last)",
      "\u001b[0;32m/var/folders/vd/h0c811n10fq4tk4gw79gg5jw0000gn/T/ipykernel_16712/2447712984.py\u001b[0m in \u001b[0;36m<module>\u001b[0;34m\u001b[0m\n\u001b[1;32m      1\u001b[0m \u001b[0;31m#KEY                    = config.get('AWS','KEY')\u001b[0m\u001b[0;34m\u001b[0m\u001b[0;34m\u001b[0m\u001b[0;34m\u001b[0m\u001b[0m\n\u001b[1;32m      2\u001b[0m \u001b[0;31m#SECRET                 = config.get('AWS','SECRET')\u001b[0m\u001b[0;34m\u001b[0m\u001b[0;34m\u001b[0m\u001b[0;34m\u001b[0m\u001b[0m\n\u001b[0;32m----> 3\u001b[0;31m \u001b[0mACCOUNTNAME\u001b[0m            \u001b[0;34m=\u001b[0m \u001b[0mconfig\u001b[0m\u001b[0;34m.\u001b[0m\u001b[0mget\u001b[0m\u001b[0;34m(\u001b[0m\u001b[0;34m'AWS'\u001b[0m\u001b[0;34m,\u001b[0m\u001b[0;34m'ACCOUNTNAME'\u001b[0m\u001b[0;34m)\u001b[0m\u001b[0;34m\u001b[0m\u001b[0;34m\u001b[0m\u001b[0m\n\u001b[0m\u001b[1;32m      4\u001b[0m \u001b[0;34m\u001b[0m\u001b[0m\n\u001b[1;32m      5\u001b[0m \u001b[0mDWH_CLUSTER_TYPE\u001b[0m       \u001b[0;34m=\u001b[0m \u001b[0mconfig\u001b[0m\u001b[0;34m.\u001b[0m\u001b[0mget\u001b[0m\u001b[0;34m(\u001b[0m\u001b[0;34m\"CLUSTER\"\u001b[0m\u001b[0;34m,\u001b[0m\u001b[0;34m\"DWH_CLUSTER_TYPE\"\u001b[0m\u001b[0;34m)\u001b[0m\u001b[0;34m\u001b[0m\u001b[0;34m\u001b[0m\u001b[0m\n",
      "\u001b[0;31mNameError\u001b[0m: name 'config' is not defined"
     ]
    }
   ],
   "source": [
    "#KEY                    = config.get('AWS','KEY')\n",
    "#SECRET                 = config.get('AWS','SECRET')\n",
    "ACCOUNTNAME            = config.get('AWS','ACCOUNTNAME')\n",
    "\n",
    "DWH_CLUSTER_TYPE       = config.get(\"CLUSTER\",\"DWH_CLUSTER_TYPE\")\n",
    "DWH_NUM_NODES          = config.get(\"CLUSTER\",\"DWH_NUM_NODES\")\n",
    "DWH_NODE_TYPE          = config.get(\"CLUSTER\",\"DWH_NODE_TYPE\")\n",
    "\n",
    "DWH_CLUSTER_IDENTIFIER = config.get(\"CLUSTER\",\"DWH_CLUSTER_IDENTIFIER\")\n",
    "DWH_DB                 = config.get(\"CLUSTER\",\"DB_NAME\")\n",
    "DWH_DB_USER            = config.get(\"CLUSTER\",\"DB_USER\")\n",
    "DWH_DB_PASSWORD        = config.get(\"CLUSTER\",\"DB_PASSWORD\")\n",
    "DWH_PORT               = config.get(\"CLUSTER\",\"DB_PORT\")\n",
    "\n",
    "DWH_IAM_ROLE_NAME      = config.get(\"CLUSTER\", \"DWH_IAM_ROLE_NAME\")\n",
    "MAP_BUCKET             = config.get(\"S3\", \"LOG_JSONPATH\")\n",
    "MAP_BUCKET_SONGS       = config.get(\"S3\", \"SONG_JSONPATH\")\n",
    "\n",
    "\n",
    "(DWH_DB_USER, DWH_DB_PASSWORD, DWH_DB)\n",
    "\n",
    "pd.DataFrame({\"Param\":\n",
    "                  [\"DWH_CLUSTER_TYPE\", \"DWH_NUM_NODES\", \"DWH_NODE_TYPE\", \"DWH_CLUSTER_IDENTIFIER\", \"DWH_DB\", \"DWH_DB_USER\", \"DWH_PORT\", \"DWH_IAM_ROLE_NAME\",\"LOG_JSONPATH\",\"SONG_JSONPATH\"],\n",
    "              \"Value\":\n",
    "                  [DWH_CLUSTER_TYPE, DWH_NUM_NODES, DWH_NODE_TYPE, DWH_CLUSTER_IDENTIFIER, DWH_DB, DWH_DB_USER, DWH_PORT, DWH_IAM_ROLE_NAME,MAP_BUCKET,MAP_BUCKET_SONGS]\n",
    "             })"
   ]
  },
  {
   "cell_type": "markdown",
   "id": "269cdf58",
   "metadata": {},
   "source": [
    "### (2) Init Clients for AWS"
   ]
  },
  {
   "cell_type": "code",
   "execution_count": 7,
   "id": "1996b7f3",
   "metadata": {},
   "outputs": [],
   "source": [
    "s3 = boto3.resource('s3')\n",
    "\n",
    "iam = boto3.client('iam')\n",
    "\n",
    "redshift = boto3.client('redshift',region_name=\"us-west-2\")"
   ]
  },
  {
   "cell_type": "markdown",
   "id": "630a43d9",
   "metadata": {},
   "source": [
    "### OPTIONAL: Review Mapping"
   ]
  },
  {
   "cell_type": "markdown",
   "id": "5b97dd67",
   "metadata": {},
   "source": [
    "First, we are going to check the mapping definitions."
   ]
  },
  {
   "cell_type": "code",
   "execution_count": 8,
   "id": "1603a6e1",
   "metadata": {},
   "outputs": [
    {
     "name": "stdout",
     "output_type": "stream",
     "text": [
      "Mapping definition for log data: \n",
      "             jsonpaths\n",
      "0          $['artist']\n",
      "1            $['auth']\n",
      "2       $['firstName']\n",
      "3          $['gender']\n",
      "4   $['itemInSession']\n",
      "5        $['lastName']\n",
      "6          $['length']\n",
      "7           $['level']\n",
      "8        $['location']\n",
      "9          $['method']\n",
      "10           $['page']\n",
      "11   $['registration']\n",
      "12      $['sessionId']\n",
      "13           $['song']\n",
      "14         $['status']\n",
      "15             $['ts']\n",
      "16      $['userAgent']\n",
      "17         $['userId']\n"
     ]
    }
   ],
   "source": [
    "content_object = s3.Object('udacity-dend', 'log_json_path.json')\n",
    "file_content = content_object.get()['Body'].read().decode('utf-8')\n",
    "json_content = json.loads(file_content)\n",
    "df=pd.DataFrame(json_content)\n",
    "print(\"Mapping definition for log data: \")\n",
    "print(df)"
   ]
  },
  {
   "cell_type": "code",
   "execution_count": 9,
   "id": "c3fa5562",
   "metadata": {},
   "outputs": [
    {
     "name": "stdout",
     "output_type": "stream",
     "text": [
      "Mapping definition for song data: \n",
      "               jsonpaths\n",
      "0         $['num_songs']\n",
      "1         $['artist_id']\n",
      "2   $['artist_latitude']\n",
      "3  $['artist_longitude']\n",
      "4   $['artist_location']\n",
      "5       $['artist_name']\n",
      "6           $['song_id']\n",
      "7             $['title']\n",
      "8          $['duration']\n",
      "9              $['year']\n"
     ]
    }
   ],
   "source": [
    "content_object = s3.Object('songmappingudacity', 'JSON_map_songs.json')\n",
    "file_content = content_object.get()['Body'].read().decode('utf-8')\n",
    "json_content = json.loads(file_content)\n",
    "df=pd.DataFrame(json_content)\n",
    "print(\"Mapping definition for song data: \")\n",
    "print(df)"
   ]
  },
  {
   "cell_type": "markdown",
   "id": "e4d2377b",
   "metadata": {},
   "source": [
    "Here we can have a look how the **song data** is structured. One entity is shown for demonstration purposes."
   ]
  },
  {
   "cell_type": "code",
   "execution_count": 10,
   "id": "59e9cecb",
   "metadata": {},
   "outputs": [
    {
     "data": {
      "text/html": [
       "<div>\n",
       "<style scoped>\n",
       "    .dataframe tbody tr th:only-of-type {\n",
       "        vertical-align: middle;\n",
       "    }\n",
       "\n",
       "    .dataframe tbody tr th {\n",
       "        vertical-align: top;\n",
       "    }\n",
       "\n",
       "    .dataframe thead th {\n",
       "        text-align: right;\n",
       "    }\n",
       "</style>\n",
       "<table border=\"1\" class=\"dataframe\">\n",
       "  <thead>\n",
       "    <tr style=\"text-align: right;\">\n",
       "      <th></th>\n",
       "      <th>artist_id</th>\n",
       "      <th>artist_latitude</th>\n",
       "      <th>artist_location</th>\n",
       "      <th>artist_longitude</th>\n",
       "      <th>artist_name</th>\n",
       "      <th>duration</th>\n",
       "      <th>num_songs</th>\n",
       "      <th>song_id</th>\n",
       "      <th>title</th>\n",
       "      <th>year</th>\n",
       "    </tr>\n",
       "  </thead>\n",
       "  <tbody>\n",
       "    <tr>\n",
       "      <th>0</th>\n",
       "      <td>ARJNIUY12298900C91</td>\n",
       "      <td>None</td>\n",
       "      <td></td>\n",
       "      <td>None</td>\n",
       "      <td>Adelitas Way</td>\n",
       "      <td>213.9424</td>\n",
       "      <td>1</td>\n",
       "      <td>SOBLFFE12AF72AA5BA</td>\n",
       "      <td>Scream</td>\n",
       "      <td>2009</td>\n",
       "    </tr>\n",
       "  </tbody>\n",
       "</table>\n",
       "</div>"
      ],
      "text/plain": [
       "            artist_id artist_latitude artist_location artist_longitude  \\\n",
       "0  ARJNIUY12298900C91            None                             None   \n",
       "\n",
       "    artist_name  duration  num_songs             song_id   title  year  \n",
       "0  Adelitas Way  213.9424          1  SOBLFFE12AF72AA5BA  Scream  2009  "
      ]
     },
     "metadata": {},
     "output_type": "display_data"
    }
   ],
   "source": [
    "content_object = s3.Object('udacity-dend', 'song_data/A/A/A/TRAAAAK128F9318786.json')\n",
    "file_content = content_object.get()['Body'].read().decode('utf-8')\n",
    "json_content = json.loads(file_content)\n",
    "df=pd.DataFrame((json_content),index=[0])\n",
    "display(df.head())"
   ]
  },
  {
   "cell_type": "markdown",
   "id": "878b23b0",
   "metadata": {},
   "source": [
    "Here we can have a look how the **log data** is structured. One entity is shown for demonstration purposes."
   ]
  },
  {
   "cell_type": "code",
   "execution_count": 11,
   "id": "2d5e0fdf",
   "metadata": {},
   "outputs": [
    {
     "data": {
      "text/html": [
       "<div>\n",
       "<style scoped>\n",
       "    .dataframe tbody tr th:only-of-type {\n",
       "        vertical-align: middle;\n",
       "    }\n",
       "\n",
       "    .dataframe tbody tr th {\n",
       "        vertical-align: top;\n",
       "    }\n",
       "\n",
       "    .dataframe thead th {\n",
       "        text-align: right;\n",
       "    }\n",
       "</style>\n",
       "<table border=\"1\" class=\"dataframe\">\n",
       "  <thead>\n",
       "    <tr style=\"text-align: right;\">\n",
       "      <th></th>\n",
       "      <th>artist</th>\n",
       "      <th>auth</th>\n",
       "      <th>firstName</th>\n",
       "      <th>gender</th>\n",
       "      <th>itemInSession</th>\n",
       "      <th>lastName</th>\n",
       "      <th>length</th>\n",
       "      <th>level</th>\n",
       "      <th>location</th>\n",
       "      <th>method</th>\n",
       "      <th>page</th>\n",
       "      <th>registration</th>\n",
       "      <th>sessionId</th>\n",
       "      <th>song</th>\n",
       "      <th>status</th>\n",
       "      <th>ts</th>\n",
       "      <th>userAgent</th>\n",
       "      <th>userId</th>\n",
       "    </tr>\n",
       "  </thead>\n",
       "  <tbody>\n",
       "    <tr>\n",
       "      <th>0</th>\n",
       "      <td>None</td>\n",
       "      <td>Logged In</td>\n",
       "      <td>Walter</td>\n",
       "      <td>M</td>\n",
       "      <td>0</td>\n",
       "      <td>Frye</td>\n",
       "      <td>NaN</td>\n",
       "      <td>free</td>\n",
       "      <td>San Francisco-Oakland-Hayward, CA</td>\n",
       "      <td>GET</td>\n",
       "      <td>Home</td>\n",
       "      <td>1.540919e+12</td>\n",
       "      <td>38</td>\n",
       "      <td>None</td>\n",
       "      <td>200</td>\n",
       "      <td>1541105830796</td>\n",
       "      <td>\"Mozilla/5.0 (Macintosh; Intel Mac OS X 10_9_4...</td>\n",
       "      <td>39</td>\n",
       "    </tr>\n",
       "  </tbody>\n",
       "</table>\n",
       "</div>"
      ],
      "text/plain": [
       "  artist       auth firstName gender  itemInSession lastName  length level  \\\n",
       "0   None  Logged In    Walter      M              0     Frye     NaN  free   \n",
       "\n",
       "                            location method  page  registration  sessionId  \\\n",
       "0  San Francisco-Oakland-Hayward, CA    GET  Home  1.540919e+12         38   \n",
       "\n",
       "   song  status             ts  \\\n",
       "0  None     200  1541105830796   \n",
       "\n",
       "                                           userAgent userId  \n",
       "0  \"Mozilla/5.0 (Macintosh; Intel Mac OS X 10_9_4...     39  "
      ]
     },
     "metadata": {},
     "output_type": "display_data"
    }
   ],
   "source": [
    "content_object = s3.Object('udacity-dend', 'log-data/2018/11/2018-11-01-events.json')\n",
    "file_content = content_object.get()['Body'].read().decode('utf-8')\n",
    "json_content = [json.loads(line) for line in file_content.splitlines()]\n",
    "df=pd.DataFrame((json_content))\n",
    "display(df.head(1))"
   ]
  },
  {
   "cell_type": "markdown",
   "id": "6422f056",
   "metadata": {},
   "source": [
    "### (3) Create Redshift Role in IAM"
   ]
  },
  {
   "cell_type": "markdown",
   "id": "4d9e8033",
   "metadata": {},
   "source": [
    "To read data from S3 data lake \"udacity-dend\" we need to create a role with the permissions to read data from S3."
   ]
  },
  {
   "cell_type": "code",
   "execution_count": 12,
   "id": "2264da33",
   "metadata": {},
   "outputs": [
    {
     "name": "stdout",
     "output_type": "stream",
     "text": [
      "Attempt to create IAM role for redshift\n",
      "An error occurred (EntityAlreadyExists) when calling the CreateRole operation: Role with name dwhRole already exists.\n"
     ]
    }
   ],
   "source": [
    "try:\n",
    "    print('Attempt to create IAM role for redshift')\n",
    "    dwhRole = iam.create_role(\n",
    "    Path='/',\n",
    "    RoleName=\"dwhRole\",\n",
    "    Description=\"Grant Redshift to access AWS service on our behalf\",\n",
    "    AssumeRolePolicyDocument=json.dumps(\n",
    "    {'Statement':[{'Action':'sts:AssumeRole',\n",
    "                  'Effect':'Allow',\n",
    "                  'Principal':{'Service':'redshift.amazonaws.com'}}],\n",
    "                  'Version':'2012-10-17'})\n",
    "    )\n",
    "    \n",
    "except Exception as e:\n",
    "    print(e)"
   ]
  },
  {
   "cell_type": "code",
   "execution_count": 13,
   "id": "eaf5a73b",
   "metadata": {},
   "outputs": [
    {
     "name": "stdout",
     "output_type": "stream",
     "text": [
      "1.1 Creating a new IAM Role\n",
      "An error occurred (EntityAlreadyExists) when calling the CreateRole operation: Role with name dwhRole already exists.\n"
     ]
    }
   ],
   "source": [
    "# TODO: Create the IAM role\n",
    "try:\n",
    "    print('1.1 Creating a new IAM Role')\n",
    "    dwhRole = iam.create_role(\n",
    "    Path='/',\n",
    "    RoleName=DWH_IAM_ROLE_NAME,\n",
    "    Description=\"Allows Redshift clusters to call AWS services on my behalf.\",\n",
    "    AssumeRolePolicyDocument=json.dumps(\n",
    "    {'Statement':[{'Action':'sts:AssumeRole',\n",
    "                  'Effect':'Allow',\n",
    "                  'Principal':{'Service':'redshift.amazonaws.com'}}],\n",
    "                  'Version':'2012-10-17'})\n",
    "    )\n",
    "    \n",
    "except Exception as e:\n",
    "    print(e)"
   ]
  },
  {
   "cell_type": "code",
   "execution_count": 14,
   "id": "790a7b26",
   "metadata": {},
   "outputs": [
    {
     "name": "stdout",
     "output_type": "stream",
     "text": [
      "1.2 Attaching Policy\n"
     ]
    }
   ],
   "source": [
    "iam.attach_role_policy(RoleName=DWH_IAM_ROLE_NAME,\n",
    "                      PolicyArn='arn:aws:iam::aws:policy/AmazonS3ReadOnlyAccess',\n",
    "                      )['ResponseMetadata']['HTTPStatusCode']\n",
    "\n",
    "print('1.2 Attaching Policy')"
   ]
  },
  {
   "cell_type": "code",
   "execution_count": 16,
   "id": "e83e3db1",
   "metadata": {},
   "outputs": [
    {
     "name": "stdout",
     "output_type": "stream",
     "text": [
      "1.3 Get the IAM role ARN\n"
     ]
    }
   ],
   "source": [
    "print('1.3 Get the IAM role ARN')\n",
    "roleArn = iam.get_role(RoleName=DWH_IAM_ROLE_NAME)['Role']['Arn']\n",
    "\n",
    "#print(roleArn)"
   ]
  },
  {
   "cell_type": "markdown",
   "id": "78b3935f",
   "metadata": {},
   "source": [
    "### (4) REDSHIFT: Create Cluster"
   ]
  },
  {
   "cell_type": "markdown",
   "id": "669cc13c",
   "metadata": {},
   "source": [
    "We create a redshift cluster, set up options are read from file dwh.cfg. We add a role."
   ]
  },
  {
   "cell_type": "markdown",
   "id": "ec91af32",
   "metadata": {},
   "source": [
    "#### (4.1) Create Cluster via IaaC"
   ]
  },
  {
   "cell_type": "code",
   "execution_count": 13,
   "id": "ea6b8ee0",
   "metadata": {},
   "outputs": [
    {
     "name": "stdout",
     "output_type": "stream",
     "text": [
      "An error occurred (ClusterAlreadyExists) when calling the CreateCluster operation: Cluster already exists\n"
     ]
    }
   ],
   "source": [
    "try:\n",
    "    response = redshift.create_cluster(        \n",
    "        # Add parameters for hardware\n",
    "        ClusterType=DWH_CLUSTER_TYPE,\n",
    "        NodeType=DWH_NODE_TYPE,\n",
    "        NumberOfNodes=int(DWH_NUM_NODES),\n",
    "\n",
    "        # Add parameters for identifiers & credentials\n",
    "        DBName=DWH_DB,\n",
    "        ClusterIdentifier=DWH_CLUSTER_IDENTIFIER,\n",
    "        MasterUsername=DWH_DB_USER,\n",
    "        MasterUserPassword=DWH_DB_PASSWORD,\n",
    "        \n",
    "        # Add parameter for role (to allow s3 access)\n",
    "        IamRoles=[roleArn]\n",
    "    )\n",
    "except Exception as e:\n",
    "    print(e)"
   ]
  },
  {
   "cell_type": "markdown",
   "id": "e977c2ee",
   "metadata": {},
   "source": [
    "#### (4.2) Check Status of DWH Creation"
   ]
  },
  {
   "cell_type": "code",
   "execution_count": 17,
   "id": "6e5a8d0a",
   "metadata": {},
   "outputs": [],
   "source": [
    "def prettyRedshiftProps(props):\n",
    "    pd.set_option('display.max_colwidth', None)\n",
    "    #pd.set_option('display.max_colwidth', -1)\n",
    "    keysToShow = [\"ClusterIdentifier\", \"NodeType\", \"ClusterStatus\", \"MasterUsername\", \"DBName\", \"Endpoint\", \"NumberOfNodes\", 'VpcId',\"Region\"]\n",
    "    x = [(k, v) for k,v in props.items() if k in keysToShow]\n",
    "    return pd.DataFrame(data=x, columns=[\"Key\", \"Value\"])\n",
    "\n",
    "myClusterProps = redshift.describe_clusters(ClusterIdentifier=DWH_CLUSTER_IDENTIFIER)['Clusters'][0]\n",
    "#prettyRedshiftProps(myClusterProps)"
   ]
  },
  {
   "cell_type": "markdown",
   "id": "dee3db00",
   "metadata": {},
   "source": [
    "### (5) Get Endpoint/Role/Connection String for DB Connection"
   ]
  },
  {
   "cell_type": "code",
   "execution_count": 18,
   "id": "36a31fd9",
   "metadata": {},
   "outputs": [],
   "source": [
    "DWH_ENDPOINT = myClusterProps['Endpoint']['Address']\n",
    "DWH_ROLE_ARN = myClusterProps['IamRoles'][0]['IamRoleArn']\n",
    "#print(\"DWH_ENDPOINT :: \", DWH_ENDPOINT)\n",
    "#print(\"DWH_ROLE_ARN :: \", roleArn)"
   ]
  },
  {
   "cell_type": "code",
   "execution_count": 16,
   "id": "fad672f5",
   "metadata": {},
   "outputs": [],
   "source": [
    "%load_ext sql"
   ]
  },
  {
   "cell_type": "code",
   "execution_count": 19,
   "id": "28362d68",
   "metadata": {},
   "outputs": [],
   "source": [
    "conn_string=\"postgresql://{}:{}@{}:{}/{}\".format(DWH_DB_USER, DWH_DB_PASSWORD, DWH_ENDPOINT, DWH_PORT,DWH_DB)\n",
    "#print(\"You can connect to the Redshift database using the following string: \")\n",
    "#print(conn_string)"
   ]
  },
  {
   "cell_type": "markdown",
   "id": "f183a71a",
   "metadata": {},
   "source": [
    "### (6) Explore Information about Kind of Raw Data in Data Lake"
   ]
  },
  {
   "cell_type": "markdown",
   "id": "962c7228",
   "metadata": {},
   "source": [
    "### (6-1) List Raw Data Files in Bucket"
   ]
  },
  {
   "cell_type": "markdown",
   "id": "4f716ab6",
   "metadata": {},
   "source": [
    "Here the names of the buckets in which data is stored are listed (data lake)."
   ]
  },
  {
   "cell_type": "code",
   "execution_count": 18,
   "id": "2daa4952",
   "metadata": {},
   "outputs": [],
   "source": [
    "s3_path_song=\"s3://udacity-dend/song_data\"\n",
    "s3_path_log=\"s3://udacity-dend/log_data\""
   ]
  },
  {
   "cell_type": "code",
   "execution_count": 19,
   "id": "812f06df",
   "metadata": {},
   "outputs": [],
   "source": [
    "bucket = s3_path_song.split('//')[1].split('/')[0]\n",
    "songPrefix = '/'.join(s3_path_song.split('//')[1].split('/')[1:])\n",
    "logPrefix = '/'.join(s3_path_log.split('//')[1].split('/')[1:])"
   ]
  },
  {
   "cell_type": "markdown",
   "id": "f42bb61e",
   "metadata": {},
   "source": [
    "The data lake (bucket) contains all data. Data can be split in log files (**logPrefix**) and song files (**songPrefix**)."
   ]
  },
  {
   "cell_type": "code",
   "execution_count": 20,
   "id": "769d941b",
   "metadata": {},
   "outputs": [
    {
     "name": "stdout",
     "output_type": "stream",
     "text": [
      "udacity-dend\n",
      "song_data\n",
      "log_data\n"
     ]
    }
   ],
   "source": [
    "print(bucket)\n",
    "print(songPrefix)\n",
    "print(logPrefix)"
   ]
  },
  {
   "cell_type": "markdown",
   "id": "4273e5e9",
   "metadata": {},
   "source": [
    "All objects in the data lake can be listed here:"
   ]
  },
  {
   "cell_type": "code",
   "execution_count": 21,
   "id": "40ebc57a",
   "metadata": {},
   "outputs": [
    {
     "name": "stdout",
     "output_type": "stream",
     "text": [
      "The name of the bucket requested is: udacity-dend\n",
      "Starting to explore bucket content ...\n",
      "Bucket content successfully scanned.\n"
     ]
    }
   ],
   "source": [
    "songBucket =  s3.Bucket(\"udacity-dend\")\n",
    "\n",
    "print(\"The name of the bucket requested is: \"+str(bucket))\n",
    "print(\"Starting to explore bucket content ...\")\n",
    "\n",
    "#Iterate over bucket objects starting with \"song_data/\" and print\n",
    "file_list=[]\n",
    "file_type_list=[]\n",
    "n=0\n",
    "for obj in songBucket.objects.filter(Prefix=\"song_data/\"):\n",
    "    if n>0:\n",
    "        file_type_list.append('song_data')\n",
    "        file_list.append(obj.key)\n",
    "    n=n+1\n",
    "\n",
    "n=0   \n",
    "for obj in songBucket.objects.filter(Prefix=\"log_data/\"):\n",
    "    if n>0:\n",
    "        file_type_list.append('log_data')\n",
    "        file_list.append(obj.key)\n",
    "    n=n+1\n",
    "\n",
    "print(\"Bucket content successfully scanned.\")"
   ]
  },
  {
   "cell_type": "code",
   "execution_count": 22,
   "id": "caf30911",
   "metadata": {},
   "outputs": [
    {
     "name": "stdout",
     "output_type": "stream",
     "text": [
      "Here is a list of all log/song files found in your bucket:\n"
     ]
    },
    {
     "data": {
      "text/html": [
       "<div>\n",
       "<style scoped>\n",
       "    .dataframe tbody tr th:only-of-type {\n",
       "        vertical-align: middle;\n",
       "    }\n",
       "\n",
       "    .dataframe tbody tr th {\n",
       "        vertical-align: top;\n",
       "    }\n",
       "\n",
       "    .dataframe thead th {\n",
       "        text-align: right;\n",
       "    }\n",
       "</style>\n",
       "<table border=\"1\" class=\"dataframe\">\n",
       "  <thead>\n",
       "    <tr style=\"text-align: right;\">\n",
       "      <th></th>\n",
       "      <th>data type</th>\n",
       "      <th>file</th>\n",
       "    </tr>\n",
       "  </thead>\n",
       "  <tbody>\n",
       "    <tr>\n",
       "      <th>0</th>\n",
       "      <td>song_data</td>\n",
       "      <td>song_data/A/A/A/TRAAAAK128F9318786.json</td>\n",
       "    </tr>\n",
       "    <tr>\n",
       "      <th>1</th>\n",
       "      <td>song_data</td>\n",
       "      <td>song_data/A/A/A/TRAAAAV128F421A322.json</td>\n",
       "    </tr>\n",
       "    <tr>\n",
       "      <th>2</th>\n",
       "      <td>song_data</td>\n",
       "      <td>song_data/A/A/A/TRAAABD128F429CF47.json</td>\n",
       "    </tr>\n",
       "    <tr>\n",
       "      <th>3</th>\n",
       "      <td>song_data</td>\n",
       "      <td>song_data/A/A/A/TRAAACN128F9355673.json</td>\n",
       "    </tr>\n",
       "    <tr>\n",
       "      <th>4</th>\n",
       "      <td>song_data</td>\n",
       "      <td>song_data/A/A/A/TRAAAEA128F935A30D.json</td>\n",
       "    </tr>\n",
       "    <tr>\n",
       "      <th>...</th>\n",
       "      <td>...</td>\n",
       "      <td>...</td>\n",
       "    </tr>\n",
       "    <tr>\n",
       "      <th>14921</th>\n",
       "      <td>log_data</td>\n",
       "      <td>log_data/2018/11/2018-11-26-events.json</td>\n",
       "    </tr>\n",
       "    <tr>\n",
       "      <th>14922</th>\n",
       "      <td>log_data</td>\n",
       "      <td>log_data/2018/11/2018-11-27-events.json</td>\n",
       "    </tr>\n",
       "    <tr>\n",
       "      <th>14923</th>\n",
       "      <td>log_data</td>\n",
       "      <td>log_data/2018/11/2018-11-28-events.json</td>\n",
       "    </tr>\n",
       "    <tr>\n",
       "      <th>14924</th>\n",
       "      <td>log_data</td>\n",
       "      <td>log_data/2018/11/2018-11-29-events.json</td>\n",
       "    </tr>\n",
       "    <tr>\n",
       "      <th>14925</th>\n",
       "      <td>log_data</td>\n",
       "      <td>log_data/2018/11/2018-11-30-events.json</td>\n",
       "    </tr>\n",
       "  </tbody>\n",
       "</table>\n",
       "<p>14926 rows × 2 columns</p>\n",
       "</div>"
      ],
      "text/plain": [
       "       data type                                     file\n",
       "0      song_data  song_data/A/A/A/TRAAAAK128F9318786.json\n",
       "1      song_data  song_data/A/A/A/TRAAAAV128F421A322.json\n",
       "2      song_data  song_data/A/A/A/TRAAABD128F429CF47.json\n",
       "3      song_data  song_data/A/A/A/TRAAACN128F9355673.json\n",
       "4      song_data  song_data/A/A/A/TRAAAEA128F935A30D.json\n",
       "...          ...                                      ...\n",
       "14921   log_data  log_data/2018/11/2018-11-26-events.json\n",
       "14922   log_data  log_data/2018/11/2018-11-27-events.json\n",
       "14923   log_data  log_data/2018/11/2018-11-28-events.json\n",
       "14924   log_data  log_data/2018/11/2018-11-29-events.json\n",
       "14925   log_data  log_data/2018/11/2018-11-30-events.json\n",
       "\n",
       "[14926 rows x 2 columns]"
      ]
     },
     "metadata": {},
     "output_type": "display_data"
    },
    {
     "name": "stdout",
     "output_type": "stream",
     "text": [
      "There are 14926 files in your data lake for processing.\n"
     ]
    }
   ],
   "source": [
    "print(\"Here is a list of all log/song files found in your bucket:\")\n",
    "df_file=pd.DataFrame()\n",
    "df_file['data type']=file_type_list\n",
    "df_file['file']=file_list\n",
    "display(df_file)\n",
    "print(\"There are \"+str(len(df_file)) + \" files in your data lake for processing.\")"
   ]
  },
  {
   "cell_type": "markdown",
   "id": "0b8baf43",
   "metadata": {},
   "source": [
    "### (6-2) OPTIONAL: Read files and Print Data Size"
   ]
  },
  {
   "cell_type": "markdown",
   "id": "b6f8dac0",
   "metadata": {},
   "source": [
    "Here we can check the size of the raw data in the S3 bucket(s):"
   ]
  },
  {
   "cell_type": "code",
   "execution_count": 23,
   "id": "741693df",
   "metadata": {},
   "outputs": [],
   "source": [
    "#size_byte=0\n",
    "#my_bucket=songBucket\n",
    "#for my_bucket_object in my_bucket.objects.all():\n",
    "    #print(my_bucket_object.key)\n",
    "    #size_byte=size_byte+my_bucket_object.size\n",
    "    #totalsize_gb=size_byte/1000/1024/1024\n",
    "#print(\"Size of all files in your data lake is \" +str(totalsize_gb) + \" GB.\")"
   ]
  },
  {
   "cell_type": "markdown",
   "id": "a35daab5",
   "metadata": {},
   "source": [
    "### (7) REDSHIFT: ETL Tests"
   ]
  },
  {
   "cell_type": "markdown",
   "id": "f10d7819",
   "metadata": {},
   "source": [
    "#### (7.1) Create final tables (star schema)"
   ]
  },
  {
   "cell_type": "code",
   "execution_count": 24,
   "id": "aff19718",
   "metadata": {},
   "outputs": [
    {
     "name": "stdout",
     "output_type": "stream",
     "text": [
      "Redshift star schema final tables successfully created.\n"
     ]
    }
   ],
   "source": [
    "from sql_queries import create_table_queries, drop_table_queries\n",
    "%run create_tables.py\n",
    "print(\"Redshift star schema final tables successfully created.\")"
   ]
  },
  {
   "cell_type": "markdown",
   "id": "45b444eb",
   "metadata": {},
   "source": [
    "Read data for database connection to Redshift from configuration file. Create connection and init cursor."
   ]
  },
  {
   "cell_type": "code",
   "execution_count": 25,
   "id": "ed5058c9",
   "metadata": {},
   "outputs": [
    {
     "name": "stdout",
     "output_type": "stream",
     "text": [
      "Database connection started.\n"
     ]
    }
   ],
   "source": [
    "config = configparser.ConfigParser()\n",
    "config.read('dwh.cfg')\n",
    "\n",
    "conn = psycopg2.connect(\"host={} dbname={} user={} password={} port={}\".format(*config['CLUSTER'].values()))\n",
    "cur = conn.cursor()\n",
    "\n",
    "print(\"Database connection started.\")"
   ]
  },
  {
   "cell_type": "markdown",
   "id": "d3d5089d",
   "metadata": {},
   "source": [
    "#### (7.2) Load Data from Datalake to Staging Tables"
   ]
  },
  {
   "cell_type": "markdown",
   "id": "feac1572",
   "metadata": {},
   "source": [
    "Load data from raw data files (datalake) to staging tables. "
   ]
  },
  {
   "cell_type": "code",
   "execution_count": 26,
   "id": "d304bae3",
   "metadata": {},
   "outputs": [],
   "source": [
    "def load_staging_tables(cur, conn):\n",
    "    for query in copy_table_queries:\n",
    "        cur.execute(query)\n",
    "        conn.commit()"
   ]
  },
  {
   "cell_type": "code",
   "execution_count": 27,
   "id": "73b21c5e",
   "metadata": {},
   "outputs": [
    {
     "name": "stdout",
     "output_type": "stream",
     "text": [
      "Data successfully loaded from data lake to staging tables.\n"
     ]
    }
   ],
   "source": [
    "from sql_queries import copy_table_queries\n",
    "load_staging_tables(cur, conn)\n",
    "print(\"Data successfully loaded from data lake to staging tables.\")"
   ]
  },
  {
   "cell_type": "markdown",
   "id": "6b921a85",
   "metadata": {},
   "source": [
    "#### (7.3) Insert Data from Staging Tables to Final Tables"
   ]
  },
  {
   "cell_type": "markdown",
   "id": "9b19cf59",
   "metadata": {},
   "source": [
    "Insert data from staging tables to final tables (star schema)."
   ]
  },
  {
   "cell_type": "code",
   "execution_count": 28,
   "id": "9a385ae1",
   "metadata": {},
   "outputs": [],
   "source": [
    "def insert_tables(cur, conn):\n",
    "    for query in insert_table_queries:\n",
    "        cur.execute(query)\n",
    "        conn.commit()"
   ]
  },
  {
   "cell_type": "code",
   "execution_count": 29,
   "id": "472cbba4",
   "metadata": {},
   "outputs": [
    {
     "name": "stdout",
     "output_type": "stream",
     "text": [
      "Data successfully inserted from staging tables to final tables.\n"
     ]
    }
   ],
   "source": [
    "from sql_queries import insert_table_queries\n",
    "insert_tables(cur,conn)\n",
    "print(\"Data successfully inserted from staging tables to final tables.\")"
   ]
  },
  {
   "cell_type": "markdown",
   "id": "6fd8dc19",
   "metadata": {},
   "source": [
    "### (8)  Redshift: ETL Pipeline"
   ]
  },
  {
   "cell_type": "markdown",
   "id": "54a0855d",
   "metadata": {},
   "source": [
    "Now, all modules are put together to a complete ETL pipeline."
   ]
  },
  {
   "cell_type": "code",
   "execution_count": null,
   "id": "169f22d9",
   "metadata": {},
   "outputs": [],
   "source": [
    "%run create_tables.py\n",
    "%run etl.py"
   ]
  },
  {
   "cell_type": "code",
   "execution_count": null,
   "id": "ace4cdfa",
   "metadata": {},
   "outputs": [],
   "source": [
    "print (\"Loaded data via ETL pipeline successfully.\")"
   ]
  },
  {
   "cell_type": "markdown",
   "id": "8c3e1582",
   "metadata": {},
   "source": [
    "### (9) Analytics with Data Warehouse Data"
   ]
  },
  {
   "cell_type": "markdown",
   "id": "94920a42",
   "metadata": {},
   "source": [
    "Now you can work with the data loaded into your Cloud DWH and execute some queries. All queries are executed via script *analytics.py*."
   ]
  },
  {
   "cell_type": "markdown",
   "id": "c2e3fb43",
   "metadata": {},
   "source": [
    "#### (9.1) Execute Query Statements"
   ]
  },
  {
   "cell_type": "code",
   "execution_count": 18,
   "id": "056a482b",
   "metadata": {},
   "outputs": [
    {
     "name": "stdout",
     "output_type": "stream",
     "text": [
      "[[('Osanna', Decimal('1108')), ('William Shatner_ David Itkin_ The Arkansas Symphony Orchestra_ Paul Rowe', Decimal('1047')), ('Polygon Window', Decimal('1033')), ('Aphex Twin', Decimal('1033')), ('Mastodon', Decimal('887')), ('Frankie Goes To Hollywood', Decimal('821')), ('Pearl Jam', Decimal('780')), ('SPEEDY J/CHRIS LIEBING', Decimal('768')), ('Cult Of Luna', Decimal('683')), ('Fertile Ground', Decimal('661'))], [('Black Eyed Peas', 2), ('Chuck Loeb', 2), ('Hayseed Dixie', 2), ('Jag Panzer', 2), ('Jamie Cullum', 2), ('Karunesh', 2), ('Lil Scrappy / Homeboy', 2), ('Linda Eder', 2), ('Mastodon', 2), ('Pearl Jam', 2), ('Polygon Window', 4), ('The (International) Noise Conspiracy', 2), ('The Kooks', 2), ('Tracy Chapman', 2), ('Tweeterfriendly Music', 2), ('Xcultures', 2)]]\n"
     ]
    }
   ],
   "source": [
    "%run analytics.py"
   ]
  },
  {
   "cell_type": "markdown",
   "id": "dbcce060",
   "metadata": {},
   "source": [
    "Results will be saved as a csv file on your EC2 instance in the notebook folder."
   ]
  },
  {
   "cell_type": "markdown",
   "id": "626246f7",
   "metadata": {},
   "source": [
    "#### (9.2) Read Data and Visualize It"
   ]
  },
  {
   "cell_type": "markdown",
   "id": "846711d3",
   "metadata": {},
   "source": [
    "We will take the first query in chapter **Analytic Queries** in our *sql_queries.py* file. This query sums up the durations of all songs of one artist and then sorts from top to bottom. Top is the artist with the most time available songplay in seconds, bottonm the least."
   ]
  },
  {
   "cell_type": "code",
   "execution_count": 90,
   "id": "285cf42b",
   "metadata": {},
   "outputs": [],
   "source": [
    "results=pd.read_csv(\"analytics.csv\")"
   ]
  },
  {
   "cell_type": "code",
   "execution_count": 109,
   "id": "7df39b09",
   "metadata": {},
   "outputs": [],
   "source": [
    "def extract_viz_data(results):\n",
    "    \"\"\"\n",
    "    Function:\n",
    "        Extracts data from our query results in analytics.py and makes them\n",
    "        ready for being plotted.\n",
    "    Args:\n",
    "        results: Returned data by our queries.\n",
    "    Returns:\n",
    "        List of artists ready for plotting, list of available time per artist ready for plotting.\n",
    "    \"\"\"\n",
    "    list_artists=[]\n",
    "    list_minutes=[]\n",
    "    for n in range(0,len(results.columns)):\n",
    "        if str(results.iloc[0,n])[:1]==\"(\":\n",
    "            x = results.iloc[0,n].split(\",\")\n",
    "            y=x[0][:-1]\n",
    "            list_artists.append(x[0][2:-1])\n",
    "            list_minutes_val=int(x[1][8:-1].replace(\")\",\"\").replace(\"(\",\"\").replace(\"'\",\"\"))\n",
    "            list_minutes.append(list_minutes_val)\n",
    "    return list_artists,list_minutes"
   ]
  },
  {
   "cell_type": "code",
   "execution_count": 110,
   "id": "c24e7bf3",
   "metadata": {},
   "outputs": [],
   "source": [
    "list_artists,list_minutes = extract_viz_data(results)"
   ]
  },
  {
   "cell_type": "code",
   "execution_count": 195,
   "id": "861593fc",
   "metadata": {},
   "outputs": [
    {
     "data": {
      "text/plain": [
       "Text(0.5, 1.0, 'Top 10 Artists with longest songplay time available on Sparkify [sec]')"
      ]
     },
     "execution_count": 195,
     "metadata": {},
     "output_type": "execute_result"
    },
    {
     "data": {
      "image/png": "[encoded data removed]",
      "text/plain": [
       "<Figure size 640x480 with 1 Axes>"
      ]
     },
     "metadata": {},
     "output_type": "display_data"
    }
   ],
   "source": [
    "def plot_songplaytime_data(list_minutes,list_artists):\n",
    "    \"\"\"\n",
    "    Function:\n",
    "        Plots available songplay time in seconds as a horizontal bar chart.\n",
    "    Args:\n",
    "        results: Returned data by our queries, cleaned via function extract_viz_data\n",
    "    Returns:\n",
    "        None\n",
    "    \"\"\"\n",
    "    plt.rcdefaults()\n",
    "    fig, ax = plt.subplots()\n",
    "    y_pos = np.arange(len(list_minutes))\n",
    "    viz=ax.barh(list_artists, list_minutes,color=\"turquoise\")\n",
    "    ax.set_yticks(y_pos,labels=list_artists)\n",
    "    ax.yaxis.tick_right() \n",
    "    ax.bar_label(viz, fmt='%.0f',label_type=\"center\",color=\"black\")\n",
    "    ax.set_xlabel('Total songplay time on Sparkify',fontsize=10,labelpad=10)\n",
    "    ax.invert_yaxis()\n",
    "    ax.spines['top'].set_visible(False)\n",
    "    ax.spines['right'].set_visible(False)\n",
    "    ax.spines['bottom'].set_visible(False)\n",
    "    ax.spines['left'].set_visible(False)\n",
    "    ax.set_title('Top 10 Artists with longest songplay time available on Sparkify [sec]',fontweight='bold',fontsize=10,pad=10)"
   ]
  },
  {
   "cell_type": "markdown",
   "id": "59964cfb",
   "metadata": {},
   "source": [
    "### (9) Close Connection"
   ]
  },
  {
   "cell_type": "code",
   "execution_count": null,
   "id": "7c2c02b3",
   "metadata": {},
   "outputs": [],
   "source": [
    "conn.close()"
   ]
  },
  {
   "cell_type": "code",
   "execution_count": null,
   "id": "ab0c581e",
   "metadata": {},
   "outputs": [],
   "source": [
    "print(\"Connection to database closed.\")"
   ]
  },
  {
   "cell_type": "code",
   "execution_count": null,
   "id": "8dbe8620",
   "metadata": {},
   "outputs": [],
   "source": []
  }
 ],
 "metadata": {
  "kernelspec": {
   "display_name": "Python 3 (ipykernel)",
   "language": "python",
   "name": "python3"
  },
  "language_info": {
   "codemirror_mode": {
    "name": "ipython",
    "version": 3
   },
   "file_extension": ".py",
   "mimetype": "text/x-python",
   "name": "python",
   "nbconvert_exporter": "python",
   "pygments_lexer": "ipython3",
   "version": "3.8.12"
  }
 },
 "nbformat": 4,
 "nbformat_minor": 5
}
